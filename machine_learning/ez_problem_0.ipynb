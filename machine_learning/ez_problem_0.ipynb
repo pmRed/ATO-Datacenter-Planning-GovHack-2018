{
 "cells": [
  {
   "cell_type": "code",
   "execution_count": 1,
   "metadata": {},
   "outputs": [],
   "source": [
    "import pandas as pd"
   ]
  },
  {
   "cell_type": "markdown",
   "metadata": {},
   "source": [
    "Load file"
   ]
  },
  {
   "cell_type": "code",
   "execution_count": 6,
   "metadata": {},
   "outputs": [
    {
     "name": "stderr",
     "output_type": "stream",
     "text": [
      "/home/mahasen/anaconda3/envs/express/lib/python3.6/site-packages/IPython/core/interactiveshell.py:2785: DtypeWarning: Columns (17,18,19,21,22) have mixed types. Specify dtype option on import or set low_memory=False.\n",
      "  interactivity=interactivity, compiler=compiler, result=result)\n"
     ]
    }
   ],
   "source": [
    "df_personal_insolvencies = pd.read_csv('./non-compliance-in-personal-insolvencies.csv')"
   ]
  },
  {
   "cell_type": "code",
   "execution_count": 14,
   "metadata": {},
   "outputs": [
    {
     "data": {
      "text/plain": [
       "1    84.0\n",
       "2    11.0\n",
       "3    99.0\n",
       "4    22.0\n",
       "5    36.0\n",
       "6    59.0\n",
       "7    43.0\n",
       "8    14.0\n",
       "9    45.0\n",
       "Name: Debtor Occupation Code (ANZSCO), dtype: float64"
      ]
     },
     "execution_count": 14,
     "metadata": {},
     "output_type": "execute_result"
    }
   ],
   "source": [
    "df_personal_insolvencies['Debtor Occupation Code (ANZSCO)'][1:10]"
   ]
  },
  {
   "cell_type": "markdown",
   "metadata": {},
   "source": [
    "# EZ0\n",
    "We want to estimate, in a Bayesian way, the likelihood of a person becoming personally insolvent, given certain information about them.\n",
    "The important information we're given about individuals in`non-compliance-in-personal-insolvencies.csv` is:\n",
    "- SA3 of debtor\n",
    "- Sex of debtor\n",
    "- Family situation\n",
    "- Debtor occupation code (N.B., these seem to be Sub-Major Groups in the ANZCO ontology, see http://www.abs.gov.au/ANZSCO)\n",
    "\n",
    "Because we don't have the joint distribution of Debtor occupation and family situation, we can't do this with a single model.\n",
    "Instead, we'll have to construct two models:\n",
    "- Estimating Pr(non-compliance) given SA3, sex, and family situation\n",
    "- Estimating Pr(non-compliance) given SA3, sex, and debtor occupation\n",
    "\n",
    "## Family situation\n",
    "B25 is the census dataset decribing 'Family Composition'.\n",
    "### Cleaning B25 (SA3)\n",
    "We need to aggregate B25 to produce the categories in `family situation` in `df_personal_insolvencies`\n",
    "1. Find all unique family situations in `non-compliance-in-personal-insolvencies.csv`\n",
    "2. Express each such family situation in terms of the columns in B25\n",
    "3. Produce a new version of B25 whose columns are the family situations found in (1)\n",
    "\n",
    "## Debtor Occupation\n",
    "The Debtor occupation codes in `non-compliance-in-personal-insolvencies.csv` are _Sub-Major Groups_ in the ANZCO ontology, see http://www.abs.gov.au/ANZSCO. However census data only has _Major Groups_. Consequently our model will only be able to ooperate on ANZSCO major groups. The relevant census datasets are either _B45 Occupation by Age by Sex_ (in which case age needs to be marginalised out) or _T34 Occupation By Sex_ (which is time-series data for each census year). Suppose we use T34 (SA3)\n",
    "\n",
    "### Cleaning T34 (SA3)\n",
    "1. Add a columns associating each Sub-Major group in `non-compliance-in-personal-insolvencies.csv` to its parent ANZSCO Major Group\n"
   ]
  },
  {
   "cell_type": "markdown",
   "metadata": {},
   "source": []
  },
  {
   "cell_type": "code",
   "execution_count": 7,
   "metadata": {},
   "outputs": [],
   "source": [
    "df_b25 = pd.read_csv('./census_sa3/2016Census_G25_AUS_SA3.csv')"
   ]
  },
  {
   "cell_type": "markdown",
   "metadata": {},
   "source": [
    "# Cleaning T34"
   ]
  },
  {
   "cell_type": "code",
   "execution_count": null,
   "metadata": {},
   "outputs": [],
   "source": []
  }
 ],
 "metadata": {
  "kernelspec": {
   "display_name": "Python [conda env:express]",
   "language": "python",
   "name": "conda-env-express-py"
  },
  "language_info": {
   "codemirror_mode": {
    "name": "ipython",
    "version": 3
   },
   "file_extension": ".py",
   "mimetype": "text/x-python",
   "name": "python",
   "nbconvert_exporter": "python",
   "pygments_lexer": "ipython3",
   "version": "3.6.5"
  }
 },
 "nbformat": 4,
 "nbformat_minor": 2
}
