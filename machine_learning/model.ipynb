{
 "cells": [
  {
   "cell_type": "code",
   "execution_count": 309,
   "metadata": {},
   "outputs": [],
   "source": [
    "import xgboost as xgb\n",
    "import numpy as np\n",
    "import matplotlib.pyplot as plt\n",
    "from sklearn.model_selection import KFold, train_test_split, GridSearchCV\n",
    "from sklearn.metrics import confusion_matrix, mean_squared_error\n",
    "from sklearn.datasets import load_iris, load_digits, load_boston\n",
    "import pickle\n",
    "import pandas as pd\n",
    "import skopt.space\n",
    "from skopt import gp_minimize\n",
    "from skopt import gbrt_minimize\n",
    "from skopt.utils import use_named_args\n",
    "from sklearn.model_selection import cross_val_score\n",
    "import math\n",
    "from scipy.stats import binom_test\n",
    "from sklearn.base import BaseEstimator, RegressorMixin\n",
    "from xgboost.sklearn import XGBRegressor\n",
    "from functools import partial\n",
    "from sklearn.ensemble import GradientBoostingRegressor"
   ]
  },
  {
   "cell_type": "code",
   "execution_count": 166,
   "metadata": {},
   "outputs": [],
   "source": [
    "import warnings\n",
    "\n",
    "def fxn():\n",
    "    warnings.warn(\"deprecated\", DeprecationWarning)\n",
    "\n",
    "with warnings.catch_warnings():\n",
    "    warnings.simplefilter(\"ignore\")\n",
    "    fxn()"
   ]
  },
  {
   "cell_type": "markdown",
   "metadata": {},
   "source": [
    "#### Add parameter constraints\n",
    "We reasonably expect that the number of tax returns filed should increase with number of tax centers. We can impose these constraints as follows:\n",
    "\n",
    "```params_constrained = params.copy()\n",
    "params_constrained['monotone_constraints'] = \"(1,-1)\"\n",
    "model_with_constraints = xgb.train(params_constrained, dtrain,                               num_boost_round = 1000, evals = evallist,early_stopping_rounds = 10)```\n",
    "                                   \n",
    "where `(1,-1)` means constrain the 1st variable to be monotonically increasing w.r.t. loss, and decreasing in the 2nd.\n",
    "\n",
    "It is reasonable to expect that the presence of a tax center would increase and not reduce the number of tax returns filed.\n",
    "\n",
    "#### Add GBRT as hyperparameter optimiser\n",
    "DONE\n",
    "\n",
    "# EZ2\n",
    "## EZ2 Plan\n",
    "Inputs : vector of things (ATO/ABS variables on each postcode)\n",
    "Target : number of tax returns filed in that postcode\n",
    "\n",
    "- Train model on the above, applying a constraint of monotonicity in number of tax returns as a function of number of tax centers.\n",
    "- Run model on each suburb, keeping all variables constant, except tax center which is incremented by 1, get predicted number of tax returns\n",
    "- Get the difference between predicted and 2016 tax return numbers and multiply each by the average taxable income of that suburb\n",
    "- Rank suburbs by this quantity\n",
    "- Export as JSON\n",
    "\n"
   ]
  },
  {
   "cell_type": "markdown",
   "metadata": {},
   "source": [
    "### Functions"
   ]
  },
  {
   "cell_type": "code",
   "execution_count": 428,
   "metadata": {},
   "outputs": [],
   "source": [
    "# model builder\n",
    "def build_model(monotone_constraints=None):\n",
    "    max_depth = 3\n",
    "    learning_rate = 0.1\n",
    "    n_estimators = 100\n",
    "    objective = \"reg:linear\"\n",
    "    booster = 'gbtree'\n",
    "    gamma = 0.1 # default = 0, min loss required to add new leaf, increasing makes model more conservative\n",
    "    subsample = 1 # subsample of the training instance\n",
    "    colsample_bytree = 1 # Subsample ratio of columns when constructing each tree.\n",
    "    reg_alpha = 0 # try 1?\n",
    "    reg_lambda = 1\n",
    "    silent = True\n",
    "    \n",
    "    if monotone_constraints is None:\n",
    "        model = xgb.XGBRegressor(max_depth = max_depth,\n",
    "                                 learning_rate = learning_rate,\n",
    "                                 n_estimators = n_estimators,\n",
    "                                 silent = silent,\n",
    "                                 objective = objective,\n",
    "                                 booster = booster,\n",
    "                                 gamma = gamma,\n",
    "                                 subsample = subsample,\n",
    "                                 colsample_bytree = colsample_bytree,\n",
    "                                 reg_alpha = reg_alpha,\n",
    "                                 reg_lambda = reg_lambda)\n",
    "    else:\n",
    "        model = xgb.XGBRegressor(max_depth = max_depth,\n",
    "                                 learning_rate = learning_rate,\n",
    "                                 n_estimators = n_estimators,\n",
    "                                 silent = silent,\n",
    "                                 objective = objective,\n",
    "                                 booster = booster,\n",
    "                                 gamma = gamma,\n",
    "                                 subsample = subsample,\n",
    "                                 colsample_bytree = colsample_bytree,\n",
    "                                 reg_alpha = reg_alpha,\n",
    "                                 reg_lambda = reg_lambda,\n",
    "                                 monotone_constraints = monotone_constraints)\n",
    "    \n",
    "    return model\n",
    "\n",
    "# grid search hyperparameter optimiser\n",
    "def hyperparameter_opt_GridSearch(model,parameter_dict,data,target):\n",
    "    clf = GridSearchCV(model, parameter_dict, verbose=1)\n",
    "    clf.fit(data,target)\n",
    "    print(clf.best_score_)\n",
    "    print(clf.best_params_)\n",
    "    \n",
    "    return clf\n",
    "\n",
    "# GBRT hyperparameter optimiser\n",
    "def hyperparameter_opt_GBRT(model,parameter_space,data, target, n_calls=50):\n",
    "    \n",
    "    # Build objective function\n",
    "    @use_named_args(parameter_space)\n",
    "    def objective(**params):\n",
    "        model.set_params(**params)\n",
    "    \n",
    "        return -np.mean(cross_val_score(model,data,target,\n",
    "                    n_jobs=-1,scoring=\"neg_mean_absolute_error\"))\n",
    "    \n",
    "    clf = gbrt_minimize(objective, parameter_space, n_calls=50, random_state=0,verbose=True)\n",
    "    \n",
    "    print(clf.x)\n",
    "    return clf\n",
    "\n",
    "# Quantile regression, from https://towardsdatascience.com/regression-prediction-intervals-with-xgboost-428e0a018b\n",
    "class XGBOOSTQUANTILE(BaseEstimator, RegressorMixin):\n",
    "    def __init__(self, quant_alpha,quant_delta,quant_thres,quant_var,\n",
    "    n_estimators = 100,max_depth = 3,reg_alpha = 5.,reg_lambda=1.0,gamma=0.5):\n",
    "        self.quant_alpha = quant_alpha\n",
    "        self.quant_delta = quant_delta \n",
    "        self.quant_thres = quant_thres \n",
    "        self.quant_var = quant_var \n",
    "        #xgboost parameters \n",
    "        self.n_estimators = n_estimators \n",
    "        self.max_depth = max_depth \n",
    "        self.reg_alpha= reg_alpha \n",
    "        self.reg_lambda = reg_lambda \n",
    "        self.gamma = gamma \n",
    "        #keep xgboost estimator in memory \n",
    "        self.clf = None\n",
    "    def fit(self, X, y): \n",
    "        def quantile_loss(y_true, y_pred,_alpha,_delta,_threshold,_var): \n",
    "            x = y_true - y_pred \n",
    "            grad = (x<(_alpha-1.0)*_delta)*(1.0-_alpha)- ((x>=(_alpha-1.0)*_delta)&\n",
    "                                    (x<_alpha*_delta) )*x/_delta-_alpha*(x>_alpha*_delta) \n",
    "            hess = ((x>=(_alpha-1.0)*_delta)& (x<_alpha*_delta) )/_delta \n",
    "            _len = np.array([y_true]).size \n",
    "            var = (2*np.random.randint(2, size=_len)-1.0)*_var \n",
    "            grad = (np.abs(x)<_threshold )*grad - (np.abs(x)>=_threshold )*var \n",
    "            hess = (np.abs(x)<_threshold )*hess + (np.abs(x)>=_threshold ) \n",
    "            return grad, hess \n",
    "        self.clf = XGBRegressor(\n",
    "                             objective=partial( quantile_loss,\n",
    "                            _alpha = self.quant_alpha,\n",
    "                            _delta = self.quant_delta,\n",
    "                            _threshold = self.quant_thres,\n",
    "                            _var = self.quant_var), \n",
    "                            n_estimators = self.n_estimators,\n",
    "                            max_depth = self.max_depth,\n",
    "                            reg_alpha =self.reg_alpha, \n",
    "                            reg_lambda = self.reg_lambda,\n",
    "                            gamma = self.gamma,\n",
    "                            booster = 'dart',\n",
    "                            monotone_constraints=(1,0,0,0,0,0,0,0,0,0,0,0,0))\n",
    "        self.clf.fit(X,y) \n",
    "        return self\n",
    "    def predict(self, X): \n",
    "        y_pred = self.clf.predict(X) \n",
    "        return y_pred \n",
    "    def score(self, X, y): \n",
    "        y_pred = self.clf.predict(X) \n",
    "        score = (self.quant_alpha-1.0)*(y-y_pred)*(y<y_pred)+self.quant_alpha*(y-y_pred)* (y>=y_pred) \n",
    "        score = 1./np.sum(score) \n",
    "        return score"
   ]
  },
  {
   "cell_type": "markdown",
   "metadata": {},
   "source": [
    "# Test"
   ]
  },
  {
   "cell_type": "code",
   "execution_count": 198,
   "metadata": {},
   "outputs": [
    {
     "name": "stdout",
     "output_type": "stream",
     "text": [
      "Boston Housing: regression\n",
      "22.247195111946144\n",
      "9.914663303584955\n"
     ]
    }
   ],
   "source": [
    "rng = np.random.RandomState(31337)\n",
    "print(\"Boston Housing: regression\")\n",
    "boston = load_boston()\n",
    "y = boston['target']\n",
    "X = boston['data']\n",
    "kf = KFold(n_splits=2, shuffle=True, random_state=rng)\n",
    "for train_index, test_index in kf.split(X):\n",
    "    xgb_model = xgb.XGBRegressor().fit(X[train_index], y[train_index])\n",
    "    predictions = xgb_model.predict(X[test_index])\n",
    "    actuals = y[test_index]\n",
    "    print(mean_squared_error(actuals, predictions))"
   ]
  },
  {
   "cell_type": "code",
   "execution_count": 199,
   "metadata": {},
   "outputs": [
    {
     "name": "stdout",
     "output_type": "stream",
     "text": [
      "Parameter optimization\n",
      "Fitting 3 folds for each of 27 candidates, totalling 81 fits\n",
      "0.5984879606490934\n",
      "{'booster': 'gbtree', 'max_depth': 4, 'n_estimators': 100}\n"
     ]
    },
    {
     "name": "stderr",
     "output_type": "stream",
     "text": [
      "[Parallel(n_jobs=1)]: Done  81 out of  81 | elapsed:    4.5s finished\n"
     ]
    }
   ],
   "source": [
    "print(\"Parameter optimization\")\n",
    "y = boston['target']\n",
    "X = boston['data']\n",
    "xgb_model = xgb.XGBRegressor()\n",
    "parameters = {'max_depth': [2,4,6],'n_estimators': [50,100,200],'booster': ['gbtree','gblinear','dart']}\n",
    "clf = GridSearchCV(xgb_model, parameters, verbose=1)\n",
    "clf.fit(X,y)\n",
    "print(clf.best_score_)\n",
    "print(clf.best_params_)"
   ]
  },
  {
   "cell_type": "code",
   "execution_count": null,
   "metadata": {},
   "outputs": [],
   "source": [
    "space = [skopt.space.Integer(3,6, name='max_depth'),\n",
    "         skopt.space.Integer(50,200, name='n_estimators'),\n",
    "         skopt.space.Real(0,1,name='gamma'),\n",
    "         skopt.space.Categorical(['gbtree','dart'],name='booster')]\n",
    "\n",
    "@use_named_args(space)\n",
    "def objective(**params):\n",
    "    xgb_model.set_params(**params)\n",
    "    \n",
    "    return -np.mean(cross_val_score(xgb_model,X,y,\n",
    "                    n_jobs=-1,scoring=\"neg_mean_absolute_error\"))"
   ]
  },
  {
   "cell_type": "code",
   "execution_count": null,
   "metadata": {},
   "outputs": [],
   "source": [
    "hyperparameter_opt_GBRT(xgb_model,space, X, y)\n",
    "\n",
    "#res_gp = gbrt_minimize(objective, space, n_calls=50, random_state=0)\n",
    "#\"Best score=%.4f\" % res_gp.fun"
   ]
  },
  {
   "cell_type": "markdown",
   "metadata": {},
   "source": [
    "# Cleaning EZ0\n",
    "First we need to remove superfluous columns.\n",
    "\n",
    "Then we need to convert categorical variables to an equivalent one-hot encoding since xgboost will interpret numeric data as numeric and not categorical.\n",
    "\n",
    "Some variables are actually numeric, e.g. year, 'Debtor Income', Unsecured Debts, Value of Assets (which are income bins that we can replace with the value of the center of the bin)"
   ]
  },
  {
   "cell_type": "code",
   "execution_count": null,
   "metadata": {},
   "outputs": [],
   "source": [
    "df_ez0 = pd.read_csv('./govhack2018-EZ0/data/preprocess/non-compliance-major-group.csv')"
   ]
  },
  {
   "cell_type": "code",
   "execution_count": null,
   "metadata": {},
   "outputs": [],
   "source": [
    "df_ez0_sml = df_ez0.copy()"
   ]
  },
  {
   "cell_type": "code",
   "execution_count": null,
   "metadata": {},
   "outputs": [],
   "source": [
    "df_ez0_sml = df_ez0_sml.drop(columns=['SA3 of Debtor', 'GCCSA of Debtor','GCCSA Code of Debtor','State of Debtor',\n",
    "                                      'Type of Party','Non-Compliance Type','Result of Non-Compliance','Number of Instances',\n",
    "                                      'Outcome of Non-Compliance','Non-Compliance Conviction Result','Debtor Occupation Name (ANZSCO)','Debtor Occupation Code (ANZSCO)'])"
   ]
  },
  {
   "cell_type": "code",
   "execution_count": null,
   "metadata": {},
   "outputs": [],
   "source": [
    "df_ez0_sml['Debtor Income'].unique()"
   ]
  },
  {
   "cell_type": "code",
   "execution_count": null,
   "metadata": {},
   "outputs": [],
   "source": [
    "pd.get_dummies(df_ez0_sml,prefix=['SA3 Code of Debtor', 'Sex of Debtor'])"
   ]
  },
  {
   "cell_type": "code",
   "execution_count": null,
   "metadata": {},
   "outputs": [],
   "source": [
    "tmp = pd.get_dummies(df_ez0_sml['Main Cause of Insolvency'],prefix='Main Cause of Insolvency')"
   ]
  },
  {
   "cell_type": "code",
   "execution_count": null,
   "metadata": {},
   "outputs": [],
   "source": [
    "df_ez0_sml"
   ]
  },
  {
   "cell_type": "markdown",
   "metadata": {},
   "source": [
    "# Processing EZ2"
   ]
  },
  {
   "cell_type": "code",
   "execution_count": 541,
   "metadata": {},
   "outputs": [],
   "source": [
    "df_ez2 = pd.read_csv('./govhack2018-EZ2/munging/ez2munge_0_ato_only.csv')"
   ]
  },
  {
   "cell_type": "code",
   "execution_count": 542,
   "metadata": {},
   "outputs": [],
   "source": [
    "# Convert to Postcode, x_data, y_data\n",
    "ez2_postcode = df_ez2['Postcode'].values\n",
    "\n",
    "# Set input and target columns and separate dataframes\n",
    "df_ez2_xdata = df_ez2[['Count','Net tax','Taxable income or loss1 ',\n",
    "                       'Net rent','Net capital gain','Total income or loss','Total deductions','Salary or wages','Medicare levy','Medicare levy surcharge','Total work related expenses','Gifts or donations','HELP assessment debt2']]\n",
    "df_ez2_ydata = df_ez2['Individuals1']"
   ]
  },
  {
   "cell_type": "markdown",
   "metadata": {},
   "source": [
    "### Build model"
   ]
  },
  {
   "cell_type": "code",
   "execution_count": 550,
   "metadata": {},
   "outputs": [],
   "source": [
    "xdg_model_ez2 = xgb.XGBRegressor(max_depth=4, n_estimators=1000, booster='dart',monotone_constraints=(1,0,0,0,0,0,0,0,0,0,0,0,0)) # parameters obtained from optimisation at bottom of notebook"
   ]
  },
  {
   "cell_type": "markdown",
   "metadata": {},
   "source": [
    "### Construct test/train data"
   ]
  },
  {
   "cell_type": "code",
   "execution_count": 551,
   "metadata": {},
   "outputs": [
    {
     "name": "stderr",
     "output_type": "stream",
     "text": [
      "/home/mahasen/anaconda3/envs/gh2018/lib/python3.6/site-packages/ipykernel/__main__.py:1: FutureWarning: Method .as_matrix will be removed in a future version. Use .values instead.\n",
      "  if __name__ == '__main__':\n",
      "/home/mahasen/anaconda3/envs/gh2018/lib/python3.6/site-packages/ipykernel/__main__.py:3: FutureWarning: Method .as_matrix will be removed in a future version. Use .values instead.\n",
      "  app.launch_new_instance()\n"
     ]
    }
   ],
   "source": [
    "X = df_ez2_xdata.as_matrix()\n",
    "y = df_ez2_ydata.values\n",
    "X_train, X_test, y_train, y_test = train_test_split(df_ez2_xdata.as_matrix(), df_ez2_ydata.values , test_size=0.2)"
   ]
  },
  {
   "cell_type": "markdown",
   "metadata": {},
   "source": [
    "# Train"
   ]
  },
  {
   "cell_type": "code",
   "execution_count": 552,
   "metadata": {},
   "outputs": [
    {
     "name": "stdout",
     "output_type": "stream",
     "text": [
      "28.181685050076805\n",
      "1121.6162311407015\n"
     ]
    }
   ],
   "source": [
    "#clf = xdg_model_ez2.fit(X_train,y_train)\n",
    "clf = xdg_model_ez2.fit(X_train,y_train)\n",
    "predictions_train = xdg_model_ez2.predict(X_train)\n",
    "predictions_test = xdg_model_ez2.predict(X_test)\n",
    "\n",
    "# The test/train divergence isn't great, but it'll do as a first iteration\n",
    "print(math.sqrt(mean_squared_error(y_train, predictions_train)))\n",
    "print(math.sqrt(mean_squared_error(y_test, predictions_test)))"
   ]
  },
  {
   "cell_type": "markdown",
   "metadata": {},
   "source": [
    "### Add a tax center to each postcode and rank by number of new tax returns and percentage increase"
   ]
  },
  {
   "cell_type": "code",
   "execution_count": 553,
   "metadata": {},
   "outputs": [
    {
     "name": "stderr",
     "output_type": "stream",
     "text": [
      "/home/mahasen/anaconda3/envs/gh2018/lib/python3.6/site-packages/ipykernel/__main__.py:2: FutureWarning: Method .as_matrix will be removed in a future version. Use .values instead.\n",
      "  from ipykernel import kernelapp as app\n"
     ]
    }
   ],
   "source": [
    "# Create new inpute where all variables are fixed except for the number of tax centers, which is incremented by 1\n",
    "df_ez2_xdata_addTaxCenter = df_ez2_xdata.as_matrix()\n",
    "df_ez2_xdata_addTaxCenter[:,0] = df_ez2_xdata_addTaxCenter[:,0] + 1"
   ]
  },
  {
   "cell_type": "code",
   "execution_count": 567,
   "metadata": {},
   "outputs": [
    {
     "name": "stdout",
     "output_type": "stream",
     "text": [
      "[[ 800.          438.5           8.02525622]\n",
      " [ 801.          168.68225098   19.82165111]\n",
      " [ 804.          162.49475098   82.48464517]\n",
      " ...\n",
      " [7468.          157.89666748   38.13929166]\n",
      " [7469.          124.61581421   35.30193037]\n",
      " [7470.          137.21569824   42.74632344]]\n"
     ]
    }
   ],
   "source": [
    "# Get predictions of number of individuals filling tax returns\n",
    "individuals_withNewTaxCenter = xdg_model_ez2.predict(df_ez2_xdata_addTaxCenter)\n",
    "newIndividuals_withNewTaxCenter = individuals_withNewTaxCenter - df_ez2_ydata.values\n",
    "newIndividuals_withNewTaxCenter = np.maximum(newIndividuals_withNewTaxCenter,0)\n",
    "\n",
    "# Get percentage increase of individuals filling tax returns\n",
    "newIndividuals_withNewTaxCenter_percentage = np.divide(newIndividuals_withNewTaxCenter,df_ez2_ydata.values)*100\n",
    "\n",
    "# Stack\n",
    "print(np.stack([ez2_postcode,newIndividuals_withNewTaxCenter,newIndividuals_withNewTaxCenter_percentage],axis=1))"
   ]
  },
  {
   "cell_type": "code",
   "execution_count": 572,
   "metadata": {},
   "outputs": [],
   "source": [
    "output_df = pd.DataFrame(np.stack([ez2_postcode,newIndividuals_withNewTaxCenter,newIndividuals_withNewTaxCenter_percentage],axis=1))\n",
    "output_df  = output_df.set_index(0)"
   ]
  },
  {
   "cell_type": "code",
   "execution_count": 575,
   "metadata": {},
   "outputs": [],
   "source": [
    "json_str = output_df.to_json(orient='index')\n",
    "with open('ez2_results.json', 'w') as file:\n",
    "    file.write(json_str)\n"
   ]
  },
  {
   "cell_type": "code",
   "execution_count": 566,
   "metadata": {},
   "outputs": [
    {
     "data": {
      "text/plain": [
       "(2558,)"
      ]
     },
     "execution_count": 566,
     "metadata": {},
     "output_type": "execute_result"
    }
   ],
   "source": [
    "newIndividuals_withNewTaxCenter_percentage.shape"
   ]
  },
  {
   "cell_type": "code",
   "execution_count": 558,
   "metadata": {},
   "outputs": [
    {
     "data": {
      "text/plain": [
       "array([438.5       , 168.68225098, 162.49475098, ..., 157.89666748,\n",
       "       124.61581421, 137.21569824])"
      ]
     },
     "execution_count": 558,
     "metadata": {},
     "output_type": "execute_result"
    }
   ],
   "source": [
    "newIndividuals_withNewTaxCenter"
   ]
  },
  {
   "cell_type": "code",
   "execution_count": 555,
   "metadata": {},
   "outputs": [],
   "source": [
    "# Sort by number of new individuals\n",
    "inds = np.argsort(newIndividuals_withNewTaxCenter)\n",
    "\n",
    "\n",
    "# Re-order\n",
    "ez2_postcode_sorted = ez2_postcode[inds]\n",
    "newIndividuals_withNewTaxCentersorted = newIndividuals_withNewTaxCenter[inds]"
   ]
  },
  {
   "cell_type": "code",
   "execution_count": 556,
   "metadata": {},
   "outputs": [
    {
     "name": "stdout",
     "output_type": "stream",
     "text": [
      "[[  4670.         -10672.41796875]\n",
      " [  3150.          -9840.34960938]\n",
      " [  4217.          -6493.1796875 ]\n",
      " ...\n",
      " [  3121.           5089.17382812]\n",
      " [  6171.           5515.27929688]\n",
      " [  3207.           6788.21875   ]]\n"
     ]
    }
   ],
   "source": []
  },
  {
   "cell_type": "markdown",
   "metadata": {},
   "source": [
    "### Check predictions\n",
    "Let's plot the predictions against postcode (this isn't completely pointless, since postcodes are organised by state each 1000, with more cosmopolitan areas closer to the nearest 1000).\n",
    "Note that while the overwhelming majority of points have a predicted increase in the number of "
   ]
  },
  {
   "cell_type": "code",
   "execution_count": 568,
   "metadata": {},
   "outputs": [
    {
     "data": {
      "image/png": "[encoded data removed]",
      "text/plain": [
       "<Figure size 1440x1280 with 1 Axes>"
      ]
     },
     "metadata": {},
     "output_type": "display_data"
    }
   ],
   "source": [
    "fig=plt.figure(figsize=(18, 16), dpi= 80, facecolor='w', edgecolor='k')\n",
    "plt.scatter(ez2_postcode,newIndividuals_withNewTaxCenter)\n",
    "plt.grid()\n",
    "plt.show()"
   ]
  },
  {
   "cell_type": "code",
   "execution_count": null,
   "metadata": {},
   "outputs": [],
   "source": [
    "## Prediction Intervals for Gradient Boosting Regression, adpted from http://scikit-learn.org/stable/auto_examples/ensemble/plot_gradient_boosting_quantile.html\n",
    "alpha = 0.95\n",
    "clf_qpi = GradientBoostingRegressor(loss='quantile', alpha=alpha,\n",
    "                                n_estimators=50, max_depth=3,\n",
    "                                learning_rate=.1, min_samples_leaf=9,\n",
    "                                min_samples_split=9)\n",
    "\n",
    "clf = xdg_model_ez2.fit(X_train,y_train)\n",
    "dy = 1.5 + 1.0 * np.random.random(y_train.shape)\n",
    "noise = np.random.normal(0, dy)\n",
    "y_noise = noise +np.array(y_train)\n",
    "#y = y.astype(np.float32)\n",
    "\n",
    "# Mesh the input space for evaluations of the real function, the prediction and\n",
    "# its MSE\n",
    "clf_qpi.fit(X_train, y_train)\n",
    "\n",
    "# Make the prediction on the meshed x-axis\n",
    "y_upper = clf_qpi.predict(X)\n",
    "\n",
    "clf_qpi.set_params(alpha=1.0 - alpha)\n",
    "clf_qpi.fit(X_train, y_noise)\n",
    "\n",
    "# Make the prediction on the meshed x-axis\n",
    "y_lower = clf_qpi.predict(X)\n",
    "\n",
    "clf_qpi.set_params(loss='ls')\n",
    "clf_qpi.fit(X_train, y_noise)\n",
    "\n",
    "# Make the prediction on the meshed x-axis\n",
    "y_pred = clf_qpi.predict(X)"
   ]
  },
  {
   "cell_type": "code",
   "execution_count": null,
   "metadata": {},
   "outputs": [],
   "source": [
    "# Plot the function, the prediction and the 90% confidence interval based on\n",
    "# the MSE\n",
    "fig=plt.figure(figsize=(18, 16), dpi= 80, facecolor='w', edgecolor='k')\n",
    "#plt.scatter(ez2_postcode, y)\n",
    "plt.errorbar(ez2_postcode, y_pred, yerr=[y_lower, y_upper],fmt='o', ecolor='k',capthick=1)\n",
    "plt.show()"
   ]
  },
  {
   "cell_type": "code",
   "execution_count": 534,
   "metadata": {},
   "outputs": [],
   "source": [
    "# Let's use the XGBoost specific example\n",
    "# First the noiseless case\n",
    "dy = 1.5 + 1.0 * np.random.random(y_train.shape)\n",
    "noise = np.random.normal(0, dy)\n",
    "y_noise = np.array(y_train).astype(np.float64)\n",
    "y_noise += noise\n",
    "\n",
    "alpha = 0.6\n",
    "xgb_main    = xgb.XGBRegressor(n_estimators = 200,max_depth = 5,reg_alpha = 5.,reg_lambda=1.0,gamma=0.50, booster='dart',monotone_constraints=(1,0,0,0,0,0,0,0,0,0,0,0,0)) \n",
    "xgb_quant_u = XGBOOSTQUANTILE(alpha , 1.0, 6.0, 30000,n_estimators = 200,max_depth = 5,reg_alpha = 1.,reg_lambda=1.0,gamma=0.5)\n",
    "xgb_quant_l = XGBOOSTQUANTILE(1-alpha , 1.0, 6.0, 30000,n_estimators = 200,max_depth = 5,reg_alpha = 1.,reg_lambda=1.0,gamma=0.5)\n",
    "\n",
    "xgb_main.fit(X_train,y_train)\n",
    "xgb_quant_u.fit(X_train,np.round(y_noise).astype(np.int))\n",
    "xgb_quant_l.fit(X_train,np.round(y_noise).astype(np.int))\n",
    "\n",
    "X_add = X\n",
    "X[:,0] = X[:,0] + 10\n",
    "y_pred = xgb_main.predict(X_add) - y \n",
    "y_pred_l = xgb_quant_u.predict(X_add)\n",
    "y_pred_u = xgb_quant_l.predict(X_add)\n"
   ]
  },
  {
   "cell_type": "code",
   "execution_count": 537,
   "metadata": {},
   "outputs": [
    {
     "data": {
      "text/plain": [
       "array([5869.45605469, 1056.32971191,  386.29714966, ...,  547.11584473,\n",
       "        462.54418945,  460.41757202])"
      ]
     },
     "execution_count": 537,
     "metadata": {},
     "output_type": "execute_result"
    }
   ],
   "source": [
    "y_pred+y"
   ]
  },
  {
   "cell_type": "code",
   "execution_count": 538,
   "metadata": {},
   "outputs": [
    {
     "data": {
      "text/plain": [
       "array([ 2803.9236, 11376.291 , 19422.395 , ..., 15932.896 , 20402.271 ,\n",
       "       22501.887 ], dtype=float32)"
      ]
     },
     "execution_count": 538,
     "metadata": {},
     "output_type": "execute_result"
    }
   ],
   "source": [
    "y_pred_l"
   ]
  },
  {
   "cell_type": "code",
   "execution_count": 539,
   "metadata": {},
   "outputs": [
    {
     "data": {
      "text/plain": [
       "array([24191.26   , -3439.6104 , 21056.47   , ...,   712.46545,\n",
       "        2907.3093 , 23518.297  ], dtype=float32)"
      ]
     },
     "execution_count": 539,
     "metadata": {},
     "output_type": "execute_result"
    }
   ],
   "source": [
    "y_pred_u"
   ]
  },
  {
   "cell_type": "code",
   "execution_count": 540,
   "metadata": {},
   "outputs": [
    {
     "data": {
      "image/png": "[encoded data removed]",
      "text/plain": [
       "<Figure size 1440x1280 with 1 Axes>"
      ]
     },
     "metadata": {},
     "output_type": "display_data"
    }
   ],
   "source": [
    "fig=plt.figure(figsize=(18, 16), dpi= 80, facecolor='w', edgecolor='k')\n",
    "#plt.scatter(ez2_postcode, y)\n",
    "#plt.errorbar(ez2_postcode, y_pred, yerr=[y_pred_u, y_pred_l],fmt='o', ecolor='k',capthick=1)\n",
    "plt.scatter(ez2_postcode, y_pred)\n",
    "plt.show()"
   ]
  },
  {
   "cell_type": "code",
   "execution_count": 372,
   "metadata": {},
   "outputs": [
    {
     "ename": "AttributeError",
     "evalue": "'NoneType' object has no attribute 'predict'",
     "output_type": "error",
     "traceback": [
      "\u001b[0;31m---------------------------------------------------------------------------\u001b[0m",
      "\u001b[0;31mAttributeError\u001b[0m                            Traceback (most recent call last)",
      "\u001b[0;32m<ipython-input-372-40977205af76>\u001b[0m in \u001b[0;36m<module>\u001b[0;34m()\u001b[0m\n\u001b[0;32m----> 1\u001b[0;31m \u001b[0mxgb_quant_l\u001b[0m\u001b[0;34m.\u001b[0m\u001b[0mscore\u001b[0m\u001b[0;34m(\u001b[0m\u001b[0mX\u001b[0m\u001b[0;34m,\u001b[0m\u001b[0my\u001b[0m\u001b[0;34m)\u001b[0m\u001b[0;34m\u001b[0m\u001b[0m\n\u001b[0m",
      "\u001b[0;32m<ipython-input-308-6e9429d2704e>\u001b[0m in \u001b[0;36mscore\u001b[0;34m(self, X, y)\u001b[0m\n\u001b[1;32m    110\u001b[0m         \u001b[0;32mreturn\u001b[0m \u001b[0my_pred\u001b[0m\u001b[0;34m\u001b[0m\u001b[0m\n\u001b[1;32m    111\u001b[0m     \u001b[0;32mdef\u001b[0m \u001b[0mscore\u001b[0m\u001b[0;34m(\u001b[0m\u001b[0mself\u001b[0m\u001b[0;34m,\u001b[0m \u001b[0mX\u001b[0m\u001b[0;34m,\u001b[0m \u001b[0my\u001b[0m\u001b[0;34m)\u001b[0m\u001b[0;34m:\u001b[0m\u001b[0;34m\u001b[0m\u001b[0m\n\u001b[0;32m--> 112\u001b[0;31m         \u001b[0my_pred\u001b[0m \u001b[0;34m=\u001b[0m \u001b[0mself\u001b[0m\u001b[0;34m.\u001b[0m\u001b[0mclf\u001b[0m\u001b[0;34m.\u001b[0m\u001b[0mpredict\u001b[0m\u001b[0;34m(\u001b[0m\u001b[0mX\u001b[0m\u001b[0;34m)\u001b[0m\u001b[0;34m\u001b[0m\u001b[0m\n\u001b[0m\u001b[1;32m    113\u001b[0m         \u001b[0mscore\u001b[0m \u001b[0;34m=\u001b[0m \u001b[0;34m(\u001b[0m\u001b[0mself\u001b[0m\u001b[0;34m.\u001b[0m\u001b[0mquant_alpha\u001b[0m\u001b[0;34m-\u001b[0m\u001b[0;36m1.0\u001b[0m\u001b[0;34m)\u001b[0m\u001b[0;34m*\u001b[0m\u001b[0;34m(\u001b[0m\u001b[0my\u001b[0m\u001b[0;34m-\u001b[0m\u001b[0my_pred\u001b[0m\u001b[0;34m)\u001b[0m\u001b[0;34m*\u001b[0m\u001b[0;34m(\u001b[0m\u001b[0my\u001b[0m\u001b[0;34m<\u001b[0m\u001b[0my_pred\u001b[0m\u001b[0;34m)\u001b[0m\u001b[0;34m+\u001b[0m\u001b[0mself\u001b[0m\u001b[0;34m.\u001b[0m\u001b[0mquant_alpha\u001b[0m\u001b[0;34m*\u001b[0m\u001b[0;34m(\u001b[0m\u001b[0my\u001b[0m\u001b[0;34m-\u001b[0m\u001b[0my_pred\u001b[0m\u001b[0;34m)\u001b[0m\u001b[0;34m*\u001b[0m \u001b[0;34m(\u001b[0m\u001b[0my\u001b[0m\u001b[0;34m>=\u001b[0m\u001b[0my_pred\u001b[0m\u001b[0;34m)\u001b[0m\u001b[0;34m\u001b[0m\u001b[0m\n\u001b[1;32m    114\u001b[0m         \u001b[0mscore\u001b[0m \u001b[0;34m=\u001b[0m \u001b[0;36m1.\u001b[0m\u001b[0;34m/\u001b[0m\u001b[0mnp\u001b[0m\u001b[0;34m.\u001b[0m\u001b[0msum\u001b[0m\u001b[0;34m(\u001b[0m\u001b[0mscore\u001b[0m\u001b[0;34m)\u001b[0m\u001b[0;34m\u001b[0m\u001b[0m\n",
      "\u001b[0;31mAttributeError\u001b[0m: 'NoneType' object has no attribute 'predict'"
     ]
    }
   ],
   "source": [
    "xgb_quant_l.score(X,y)"
   ]
  },
  {
   "cell_type": "markdown",
   "metadata": {},
   "source": [
    "### Hyperparameter optimisation"
   ]
  },
  {
   "cell_type": "code",
   "execution_count": 242,
   "metadata": {},
   "outputs": [
    {
     "name": "stdout",
     "output_type": "stream",
     "text": [
      "[5836.321]\n",
      "[5442.007]\n"
     ]
    }
   ],
   "source": [
    "print(xdg_model_ez2.predict([1,101020407.0,3.893756e+08,-4580471.0,2352866.0,4.019841e+08,12492549.0,3.690974e+08,5273096.0,290409.0,9884768.0,497103.0,1065946.0]))\n",
    "print(xdg_model_ez2.predict([0,101020407.0,3.893756e+08,-4580471.0,2352866.0,4.019841e+08,12492549.0,3.690974e+08,5273096.0,290409.0,9884768.0,497103.0,1065946.0]))"
   ]
  },
  {
   "cell_type": "code",
   "execution_count": 210,
   "metadata": {},
   "outputs": [
    {
     "data": {
      "text/plain": [
       "array([10356606.], dtype=float32)"
      ]
     },
     "execution_count": 210,
     "metadata": {},
     "output_type": "execute_result"
    }
   ],
   "source": [
    "xdg_model_ez2.predict(X_train[0,:].reshape([1,13]))"
   ]
  },
  {
   "cell_type": "code",
   "execution_count": 173,
   "metadata": {},
   "outputs": [],
   "source": [
    "space = [skopt.space.Integer(3,6, name='max_depth'),\n",
    "         skopt.space.Integer(50,200, name='n_estimators'),\n",
    "         skopt.space.Real(0,1,name='gamma'),\n",
    "         skopt.space.Categorical(['gbtree','dart'],name='booster')]"
   ]
  },
  {
   "cell_type": "code",
   "execution_count": 174,
   "metadata": {},
   "outputs": [
    {
     "name": "stdout",
     "output_type": "stream",
     "text": [
      "Iteration No: 1 started. Evaluating function at random point.\n",
      "Iteration No: 1 ended. Evaluation done at random point.\n",
      "Time taken: 0.7217\n",
      "Function value obtained: 5333973.4014\n",
      "Current minimum: 5333973.4014\n",
      "Iteration No: 2 started. Evaluating function at random point.\n",
      "Iteration No: 2 ended. Evaluation done at random point.\n",
      "Time taken: 1.6164\n",
      "Function value obtained: 5153594.5825\n",
      "Current minimum: 5153594.5825\n",
      "Iteration No: 3 started. Evaluating function at random point.\n",
      "Iteration No: 3 ended. Evaluation done at random point.\n",
      "Time taken: 0.8876\n",
      "Function value obtained: 5155056.1997\n",
      "Current minimum: 5153594.5825\n",
      "Iteration No: 4 started. Evaluating function at random point.\n",
      "Iteration No: 4 ended. Evaluation done at random point.\n",
      "Time taken: 0.7635\n",
      "Function value obtained: 5210208.9329\n",
      "Current minimum: 5153594.5825\n",
      "Iteration No: 5 started. Evaluating function at random point.\n",
      "Iteration No: 5 ended. Evaluation done at random point.\n",
      "Time taken: 0.5359\n",
      "Function value obtained: 5490130.9181\n",
      "Current minimum: 5153594.5825\n",
      "Iteration No: 6 started. Evaluating function at random point.\n",
      "Iteration No: 6 ended. Evaluation done at random point.\n",
      "Time taken: 1.2657\n",
      "Function value obtained: 5164934.0883\n",
      "Current minimum: 5153594.5825\n",
      "Iteration No: 7 started. Evaluating function at random point.\n",
      "Iteration No: 7 ended. Evaluation done at random point.\n",
      "Time taken: 0.5766\n",
      "Function value obtained: 5527519.5082\n",
      "Current minimum: 5153594.5825\n",
      "Iteration No: 8 started. Evaluating function at random point.\n",
      "Iteration No: 8 ended. Evaluation done at random point.\n",
      "Time taken: 0.5879\n",
      "Function value obtained: 5853110.5575\n",
      "Current minimum: 5153594.5825\n",
      "Iteration No: 9 started. Evaluating function at random point.\n",
      "Iteration No: 9 ended. Evaluation done at random point.\n",
      "Time taken: 1.5257\n",
      "Function value obtained: 5101508.7732\n",
      "Current minimum: 5101508.7732\n",
      "Iteration No: 10 started. Evaluating function at random point.\n",
      "Iteration No: 10 ended. Evaluation done at random point.\n",
      "Time taken: 0.7601\n",
      "Function value obtained: 5290575.4335\n",
      "Current minimum: 5101508.7732\n",
      "Iteration No: 11 started. Searching for the next optimal point.\n",
      "Iteration No: 11 ended. Search finished for the next optimal point.\n",
      "Time taken: 2.5250\n",
      "Function value obtained: 5083348.2089\n",
      "Current minimum: 5083348.2089\n",
      "Iteration No: 12 started. Searching for the next optimal point.\n",
      "Iteration No: 12 ended. Search finished for the next optimal point.\n",
      "Time taken: 1.9223\n",
      "Function value obtained: 5146458.3747\n",
      "Current minimum: 5083348.2089\n",
      "Iteration No: 13 started. Searching for the next optimal point.\n",
      "Iteration No: 13 ended. Search finished for the next optimal point.\n",
      "Time taken: 1.9037\n",
      "Function value obtained: 5079284.0191\n",
      "Current minimum: 5079284.0191\n",
      "Iteration No: 14 started. Searching for the next optimal point.\n",
      "Iteration No: 14 ended. Search finished for the next optimal point.\n",
      "Time taken: 1.1207\n",
      "Function value obtained: 5080345.6456\n",
      "Current minimum: 5079284.0191\n",
      "Iteration No: 15 started. Searching for the next optimal point.\n",
      "Iteration No: 15 ended. Search finished for the next optimal point.\n",
      "Time taken: 0.9264\n",
      "Function value obtained: 5307196.5604\n",
      "Current minimum: 5079284.0191\n",
      "Iteration No: 16 started. Searching for the next optimal point.\n",
      "Iteration No: 16 ended. Search finished for the next optimal point.\n",
      "Time taken: 0.7647\n",
      "Function value obtained: 5295395.3250\n",
      "Current minimum: 5079284.0191\n",
      "Iteration No: 17 started. Searching for the next optimal point.\n",
      "Iteration No: 17 ended. Search finished for the next optimal point.\n",
      "Time taken: 1.8974\n",
      "Function value obtained: 5078865.2899\n",
      "Current minimum: 5078865.2899\n",
      "Iteration No: 18 started. Searching for the next optimal point.\n",
      "Iteration No: 18 ended. Search finished for the next optimal point.\n",
      "Time taken: 1.8263\n",
      "Function value obtained: 5081393.4209\n",
      "Current minimum: 5078865.2899\n",
      "Iteration No: 19 started. Searching for the next optimal point.\n",
      "Iteration No: 19 ended. Search finished for the next optimal point.\n",
      "Time taken: 1.2932\n",
      "Function value obtained: 5057219.5565\n",
      "Current minimum: 5057219.5565\n",
      "Iteration No: 20 started. Searching for the next optimal point.\n",
      "Iteration No: 20 ended. Search finished for the next optimal point.\n",
      "Time taken: 1.6725\n",
      "Function value obtained: 5185971.0936\n",
      "Current minimum: 5057219.5565\n",
      "Iteration No: 21 started. Searching for the next optimal point.\n",
      "Iteration No: 21 ended. Search finished for the next optimal point.\n",
      "Time taken: 1.3778\n",
      "Function value obtained: 5057219.5565\n",
      "Current minimum: 5057219.5565\n",
      "Iteration No: 22 started. Searching for the next optimal point.\n",
      "Iteration No: 22 ended. Search finished for the next optimal point.\n",
      "Time taken: 0.8976\n",
      "Function value obtained: 5057219.6480\n",
      "Current minimum: 5057219.5565\n",
      "Iteration No: 23 started. Searching for the next optimal point.\n",
      "Iteration No: 23 ended. Search finished for the next optimal point.\n",
      "Time taken: 0.8907\n",
      "Function value obtained: 5057219.6480\n",
      "Current minimum: 5057219.5565\n",
      "Iteration No: 24 started. Searching for the next optimal point.\n",
      "Iteration No: 24 ended. Search finished for the next optimal point.\n",
      "Time taken: 1.3178\n",
      "Function value obtained: 5057219.5565\n",
      "Current minimum: 5057219.5565\n",
      "Iteration No: 25 started. Searching for the next optimal point.\n",
      "Iteration No: 25 ended. Search finished for the next optimal point.\n",
      "Time taken: 1.3712\n",
      "Function value obtained: 5057219.5565\n",
      "Current minimum: 5057219.5565\n",
      "Iteration No: 26 started. Searching for the next optimal point.\n",
      "Iteration No: 26 ended. Search finished for the next optimal point.\n",
      "Time taken: 0.6703\n",
      "Function value obtained: 5868238.2056\n",
      "Current minimum: 5057219.5565\n",
      "Iteration No: 27 started. Searching for the next optimal point.\n",
      "Iteration No: 27 ended. Search finished for the next optimal point.\n",
      "Time taken: 1.1600\n",
      "Function value obtained: 5057219.6480\n",
      "Current minimum: 5057219.5565\n",
      "Iteration No: 28 started. Searching for the next optimal point.\n",
      "Iteration No: 28 ended. Search finished for the next optimal point.\n",
      "Time taken: 0.6665\n",
      "Function value obtained: 6026183.9987\n",
      "Current minimum: 5057219.5565\n",
      "Iteration No: 29 started. Searching for the next optimal point.\n",
      "Iteration No: 29 ended. Search finished for the next optimal point.\n",
      "Time taken: 0.9517\n",
      "Function value obtained: 5057219.6480\n",
      "Current minimum: 5057219.5565\n",
      "Iteration No: 30 started. Searching for the next optimal point.\n",
      "Iteration No: 30 ended. Search finished for the next optimal point.\n",
      "Time taken: 0.5712\n",
      "Function value obtained: 6026183.9987\n",
      "Current minimum: 5057219.5565\n",
      "Iteration No: 31 started. Searching for the next optimal point.\n",
      "Iteration No: 31 ended. Search finished for the next optimal point.\n",
      "Time taken: 0.7916\n",
      "Function value obtained: 5322065.7537\n",
      "Current minimum: 5057219.5565\n",
      "Iteration No: 32 started. Searching for the next optimal point.\n",
      "Iteration No: 32 ended. Search finished for the next optimal point.\n",
      "Time taken: 0.6499\n",
      "Function value obtained: 6026183.9987\n",
      "Current minimum: 5057219.5565\n",
      "Iteration No: 33 started. Searching for the next optimal point.\n",
      "Iteration No: 33 ended. Search finished for the next optimal point.\n",
      "Time taken: 1.9785\n",
      "Function value obtained: 5079436.4068\n",
      "Current minimum: 5057219.5565\n",
      "Iteration No: 34 started. Searching for the next optimal point.\n",
      "Iteration No: 34 ended. Search finished for the next optimal point.\n",
      "Time taken: 1.1527\n",
      "Function value obtained: 5079436.0351\n",
      "Current minimum: 5057219.5565\n",
      "Iteration No: 35 started. Searching for the next optimal point.\n",
      "Iteration No: 35 ended. Search finished for the next optimal point.\n",
      "Time taken: 0.8047\n",
      "Function value obtained: 5678214.7718\n",
      "Current minimum: 5057219.5565\n",
      "Iteration No: 36 started. Searching for the next optimal point.\n",
      "Iteration No: 36 ended. Search finished for the next optimal point.\n",
      "Time taken: 1.5207\n",
      "Function value obtained: 5055535.3884\n",
      "Current minimum: 5055535.3884\n",
      "Iteration No: 37 started. Searching for the next optimal point.\n",
      "Iteration No: 37 ended. Search finished for the next optimal point.\n",
      "Time taken: 0.6696\n",
      "Function value obtained: 5280941.7154\n",
      "Current minimum: 5055535.3884\n",
      "Iteration No: 38 started. Searching for the next optimal point.\n",
      "Iteration No: 38 ended. Search finished for the next optimal point.\n",
      "Time taken: 0.6675\n",
      "Function value obtained: 5271016.2551\n",
      "Current minimum: 5055535.3884\n",
      "Iteration No: 39 started. Searching for the next optimal point.\n",
      "Iteration No: 39 ended. Search finished for the next optimal point.\n",
      "Time taken: 0.7630\n",
      "Function value obtained: 5224486.2677\n",
      "Current minimum: 5055535.3884\n",
      "Iteration No: 40 started. Searching for the next optimal point.\n",
      "Iteration No: 40 ended. Search finished for the next optimal point.\n",
      "Time taken: 0.6747\n",
      "Function value obtained: 5319595.2549\n",
      "Current minimum: 5055535.3884\n",
      "Iteration No: 41 started. Searching for the next optimal point.\n",
      "Iteration No: 41 ended. Search finished for the next optimal point.\n",
      "Time taken: 0.8280\n",
      "Function value obtained: 5219773.7677\n",
      "Current minimum: 5055535.3884\n",
      "Iteration No: 42 started. Searching for the next optimal point.\n",
      "Iteration No: 42 ended. Search finished for the next optimal point.\n",
      "Time taken: 0.8344\n",
      "Function value obtained: 5224486.2677\n",
      "Current minimum: 5055535.3884\n",
      "Iteration No: 43 started. Searching for the next optimal point.\n",
      "Iteration No: 43 ended. Search finished for the next optimal point.\n",
      "Time taken: 0.9265\n",
      "Function value obtained: 5057219.6480\n",
      "Current minimum: 5055535.3884\n",
      "Iteration No: 44 started. Searching for the next optimal point.\n",
      "Iteration No: 44 ended. Search finished for the next optimal point.\n",
      "Time taken: 1.8537\n",
      "Function value obtained: 5079436.4068\n",
      "Current minimum: 5055535.3884\n",
      "Iteration No: 45 started. Searching for the next optimal point.\n",
      "Iteration No: 45 ended. Search finished for the next optimal point.\n",
      "Time taken: 1.3778\n",
      "Function value obtained: 5054991.4695\n",
      "Current minimum: 5054991.4695\n",
      "Iteration No: 46 started. Searching for the next optimal point.\n",
      "Iteration No: 46 ended. Search finished for the next optimal point.\n",
      "Time taken: 0.8589\n",
      "Function value obtained: 5224486.2677\n",
      "Current minimum: 5054991.4695\n",
      "Iteration No: 47 started. Searching for the next optimal point.\n",
      "Iteration No: 47 ended. Search finished for the next optimal point.\n",
      "Time taken: 1.0942\n",
      "Function value obtained: 5079436.0351\n",
      "Current minimum: 5054991.4695\n",
      "Iteration No: 48 started. Searching for the next optimal point.\n",
      "Iteration No: 48 ended. Search finished for the next optimal point.\n",
      "Time taken: 0.8127\n",
      "Function value obtained: 5221639.2938\n",
      "Current minimum: 5054991.4695\n",
      "Iteration No: 49 started. Searching for the next optimal point.\n",
      "Iteration No: 49 ended. Search finished for the next optimal point.\n",
      "Time taken: 0.7746\n",
      "Function value obtained: 5686410.1779\n",
      "Current minimum: 5054991.4695\n",
      "Iteration No: 50 started. Searching for the next optimal point.\n",
      "Iteration No: 50 ended. Search finished for the next optimal point.\n",
      "Time taken: 0.8730\n",
      "Function value obtained: 5054991.5736\n",
      "Current minimum: 5054991.4695\n",
      "[3, 197, 0.1512247038732474, 'dart']\n"
     ]
    },
    {
     "data": {
      "text/plain": [
       "          fun: 5054991.4694823325\n",
       "    func_vals: array([5333973.40142257, 5153594.58250037, 5155056.19967343,\n",
       "       5210208.9329466 , 5490130.91811747, 5164934.08834387,\n",
       "       5527519.50815969, 5853110.55752395, 5101508.77316473,\n",
       "       5290575.43352884, 5083348.20890577, 5146458.37473241,\n",
       "       5079284.01908372, 5080345.64556069, 5307196.5604395 ,\n",
       "       5295395.32504461, 5078865.2898667 , 5081393.42085663,\n",
       "       5057219.55649822, 5185971.09356493, 5057219.55649822,\n",
       "       5057219.64795926, 5057219.64795926, 5057219.55649822,\n",
       "       5057219.55649822, 5868238.20559704, 5057219.64795926,\n",
       "       6026183.99867595, 5057219.64795926, 6026183.99867595,\n",
       "       5322065.75372576, 6026183.99867595, 5079436.40683393,\n",
       "       5079436.03514265, 5678214.7718231 , 5055535.38840861,\n",
       "       5280941.7154003 , 5271016.25510687, 5224486.26769415,\n",
       "       5319595.25489564, 5219773.76770077, 5224486.26769415,\n",
       "       5057219.64795926, 5079436.40683393, 5054991.46948233,\n",
       "       5224486.26769415, 5079436.03514265, 5221639.29384926,\n",
       "       5686410.17787323, 5054991.57357167])\n",
       "       models: [GradientBoostingQuantileRegressor(base_estimator=GradientBoostingRegressor(alpha=0.9, criterion='friedman_mse', init=None,\n",
       "             learning_rate=0.1, loss='quantile', max_depth=3,\n",
       "             max_features=None, max_leaf_nodes=None,\n",
       "             min_impurity_decrease=0.0, min_impurity_split=None,\n",
       "             min_samples_leaf=1...rand.RandomState object at 0x7fca24988048>,\n",
       "             subsample=1.0, verbose=0, warm_start=False),\n",
       "                 n_jobs=1, quantiles=[0.16, 0.5, 0.84],\n",
       "                 random_state=<mtrand.RandomState object at 0x7fca24988048>), GradientBoostingQuantileRegressor(base_estimator=GradientBoostingRegressor(alpha=0.9, criterion='friedman_mse', init=None,\n",
       "             learning_rate=0.1, loss='quantile', max_depth=3,\n",
       "             max_features=None, max_leaf_nodes=None,\n",
       "             min_impurity_decrease=0.0, min_impurity_split=None,\n",
       "             min_samples_leaf=1...rand.RandomState object at 0x7fca255f1480>,\n",
       "             subsample=1.0, verbose=0, warm_start=False),\n",
       "                 n_jobs=1, quantiles=[0.16, 0.5, 0.84],\n",
       "                 random_state=<mtrand.RandomState object at 0x7fca255f1480>), GradientBoostingQuantileRegressor(base_estimator=GradientBoostingRegressor(alpha=0.9, criterion='friedman_mse', init=None,\n",
       "             learning_rate=0.1, loss='quantile', max_depth=3,\n",
       "             max_features=None, max_leaf_nodes=None,\n",
       "             min_impurity_decrease=0.0, min_impurity_split=None,\n",
       "             min_samples_leaf=1...rand.RandomState object at 0x7fca27a15948>,\n",
       "             subsample=1.0, verbose=0, warm_start=False),\n",
       "                 n_jobs=1, quantiles=[0.16, 0.5, 0.84],\n",
       "                 random_state=<mtrand.RandomState object at 0x7fca27a15948>), GradientBoostingQuantileRegressor(base_estimator=GradientBoostingRegressor(alpha=0.9, criterion='friedman_mse', init=None,\n",
       "             learning_rate=0.1, loss='quantile', max_depth=3,\n",
       "             max_features=None, max_leaf_nodes=None,\n",
       "             min_impurity_decrease=0.0, min_impurity_split=None,\n",
       "             min_samples_leaf=1...rand.RandomState object at 0x7fca24a4a0d8>,\n",
       "             subsample=1.0, verbose=0, warm_start=False),\n",
       "                 n_jobs=1, quantiles=[0.16, 0.5, 0.84],\n",
       "                 random_state=<mtrand.RandomState object at 0x7fca24a4a0d8>), GradientBoostingQuantileRegressor(base_estimator=GradientBoostingRegressor(alpha=0.9, criterion='friedman_mse', init=None,\n",
       "             learning_rate=0.1, loss='quantile', max_depth=3,\n",
       "             max_features=None, max_leaf_nodes=None,\n",
       "             min_impurity_decrease=0.0, min_impurity_split=None,\n",
       "             min_samples_leaf=1...rand.RandomState object at 0x7fca24b19a20>,\n",
       "             subsample=1.0, verbose=0, warm_start=False),\n",
       "                 n_jobs=1, quantiles=[0.16, 0.5, 0.84],\n",
       "                 random_state=<mtrand.RandomState object at 0x7fca24b19a20>), GradientBoostingQuantileRegressor(base_estimator=GradientBoostingRegressor(alpha=0.9, criterion='friedman_mse', init=None,\n",
       "             learning_rate=0.1, loss='quantile', max_depth=3,\n",
       "             max_features=None, max_leaf_nodes=None,\n",
       "             min_impurity_decrease=0.0, min_impurity_split=None,\n",
       "             min_samples_leaf=1...rand.RandomState object at 0x7fca24b265a0>,\n",
       "             subsample=1.0, verbose=0, warm_start=False),\n",
       "                 n_jobs=1, quantiles=[0.16, 0.5, 0.84],\n",
       "                 random_state=<mtrand.RandomState object at 0x7fca24b265a0>), GradientBoostingQuantileRegressor(base_estimator=GradientBoostingRegressor(alpha=0.9, criterion='friedman_mse', init=None,\n",
       "             learning_rate=0.1, loss='quantile', max_depth=3,\n",
       "             max_features=None, max_leaf_nodes=None,\n",
       "             min_impurity_decrease=0.0, min_impurity_split=None,\n",
       "             min_samples_leaf=1...rand.RandomState object at 0x7fca24a40630>,\n",
       "             subsample=1.0, verbose=0, warm_start=False),\n",
       "                 n_jobs=1, quantiles=[0.16, 0.5, 0.84],\n",
       "                 random_state=<mtrand.RandomState object at 0x7fca24a40630>), GradientBoostingQuantileRegressor(base_estimator=GradientBoostingRegressor(alpha=0.9, criterion='friedman_mse', init=None,\n",
       "             learning_rate=0.1, loss='quantile', max_depth=3,\n",
       "             max_features=None, max_leaf_nodes=None,\n",
       "             min_impurity_decrease=0.0, min_impurity_split=None,\n",
       "             min_samples_leaf=1...rand.RandomState object at 0x7fca24ad51f8>,\n",
       "             subsample=1.0, verbose=0, warm_start=False),\n",
       "                 n_jobs=1, quantiles=[0.16, 0.5, 0.84],\n",
       "                 random_state=<mtrand.RandomState object at 0x7fca24ad51f8>), GradientBoostingQuantileRegressor(base_estimator=GradientBoostingRegressor(alpha=0.9, criterion='friedman_mse', init=None,\n",
       "             learning_rate=0.1, loss='quantile', max_depth=3,\n",
       "             max_features=None, max_leaf_nodes=None,\n",
       "             min_impurity_decrease=0.0, min_impurity_split=None,\n",
       "             min_samples_leaf=1...rand.RandomState object at 0x7fca24ae3168>,\n",
       "             subsample=1.0, verbose=0, warm_start=False),\n",
       "                 n_jobs=1, quantiles=[0.16, 0.5, 0.84],\n",
       "                 random_state=<mtrand.RandomState object at 0x7fca24ae3168>), GradientBoostingQuantileRegressor(base_estimator=GradientBoostingRegressor(alpha=0.9, criterion='friedman_mse', init=None,\n",
       "             learning_rate=0.1, loss='quantile', max_depth=3,\n",
       "             max_features=None, max_leaf_nodes=None,\n",
       "             min_impurity_decrease=0.0, min_impurity_split=None,\n",
       "             min_samples_leaf=1...rand.RandomState object at 0x7fca24af21f8>,\n",
       "             subsample=1.0, verbose=0, warm_start=False),\n",
       "                 n_jobs=1, quantiles=[0.16, 0.5, 0.84],\n",
       "                 random_state=<mtrand.RandomState object at 0x7fca24af21f8>), GradientBoostingQuantileRegressor(base_estimator=GradientBoostingRegressor(alpha=0.9, criterion='friedman_mse', init=None,\n",
       "             learning_rate=0.1, loss='quantile', max_depth=3,\n",
       "             max_features=None, max_leaf_nodes=None,\n",
       "             min_impurity_decrease=0.0, min_impurity_split=None,\n",
       "             min_samples_leaf=1...rand.RandomState object at 0x7fca24ae39d8>,\n",
       "             subsample=1.0, verbose=0, warm_start=False),\n",
       "                 n_jobs=1, quantiles=[0.16, 0.5, 0.84],\n",
       "                 random_state=<mtrand.RandomState object at 0x7fca24ae39d8>), GradientBoostingQuantileRegressor(base_estimator=GradientBoostingRegressor(alpha=0.9, criterion='friedman_mse', init=None,\n",
       "             learning_rate=0.1, loss='quantile', max_depth=3,\n",
       "             max_features=None, max_leaf_nodes=None,\n",
       "             min_impurity_decrease=0.0, min_impurity_split=None,\n",
       "             min_samples_leaf=1...rand.RandomState object at 0x7fca24b517e0>,\n",
       "             subsample=1.0, verbose=0, warm_start=False),\n",
       "                 n_jobs=1, quantiles=[0.16, 0.5, 0.84],\n",
       "                 random_state=<mtrand.RandomState object at 0x7fca24b517e0>), GradientBoostingQuantileRegressor(base_estimator=GradientBoostingRegressor(alpha=0.9, criterion='friedman_mse', init=None,\n",
       "             learning_rate=0.1, loss='quantile', max_depth=3,\n",
       "             max_features=None, max_leaf_nodes=None,\n",
       "             min_impurity_decrease=0.0, min_impurity_split=None,\n",
       "             min_samples_leaf=1...rand.RandomState object at 0x7fca24b195a0>,\n",
       "             subsample=1.0, verbose=0, warm_start=False),\n",
       "                 n_jobs=1, quantiles=[0.16, 0.5, 0.84],\n",
       "                 random_state=<mtrand.RandomState object at 0x7fca24b195a0>), GradientBoostingQuantileRegressor(base_estimator=GradientBoostingRegressor(alpha=0.9, criterion='friedman_mse', init=None,\n",
       "             learning_rate=0.1, loss='quantile', max_depth=3,\n",
       "             max_features=None, max_leaf_nodes=None,\n",
       "             min_impurity_decrease=0.0, min_impurity_split=None,\n",
       "             min_samples_leaf=1...rand.RandomState object at 0x7fca24b0a168>,\n",
       "             subsample=1.0, verbose=0, warm_start=False),\n",
       "                 n_jobs=1, quantiles=[0.16, 0.5, 0.84],\n",
       "                 random_state=<mtrand.RandomState object at 0x7fca24b0a168>), GradientBoostingQuantileRegressor(base_estimator=GradientBoostingRegressor(alpha=0.9, criterion='friedman_mse', init=None,\n",
       "             learning_rate=0.1, loss='quantile', max_depth=3,\n",
       "             max_features=None, max_leaf_nodes=None,\n",
       "             min_impurity_decrease=0.0, min_impurity_split=None,\n",
       "             min_samples_leaf=1...rand.RandomState object at 0x7fca24864c18>,\n",
       "             subsample=1.0, verbose=0, warm_start=False),\n",
       "                 n_jobs=1, quantiles=[0.16, 0.5, 0.84],\n",
       "                 random_state=<mtrand.RandomState object at 0x7fca24864c18>), GradientBoostingQuantileRegressor(base_estimator=GradientBoostingRegressor(alpha=0.9, criterion='friedman_mse', init=None,\n",
       "             learning_rate=0.1, loss='quantile', max_depth=3,\n",
       "             max_features=None, max_leaf_nodes=None,\n",
       "             min_impurity_decrease=0.0, min_impurity_split=None,\n",
       "             min_samples_leaf=1...rand.RandomState object at 0x7fca2485e990>,\n",
       "             subsample=1.0, verbose=0, warm_start=False),\n",
       "                 n_jobs=1, quantiles=[0.16, 0.5, 0.84],\n",
       "                 random_state=<mtrand.RandomState object at 0x7fca2485e990>), GradientBoostingQuantileRegressor(base_estimator=GradientBoostingRegressor(alpha=0.9, criterion='friedman_mse', init=None,\n",
       "             learning_rate=0.1, loss='quantile', max_depth=3,\n",
       "             max_features=None, max_leaf_nodes=None,\n",
       "             min_impurity_decrease=0.0, min_impurity_split=None,\n",
       "             min_samples_leaf=1...rand.RandomState object at 0x7fca24883318>,\n",
       "             subsample=1.0, verbose=0, warm_start=False),\n",
       "                 n_jobs=1, quantiles=[0.16, 0.5, 0.84],\n",
       "                 random_state=<mtrand.RandomState object at 0x7fca24883318>), GradientBoostingQuantileRegressor(base_estimator=GradientBoostingRegressor(alpha=0.9, criterion='friedman_mse', init=None,\n",
       "             learning_rate=0.1, loss='quantile', max_depth=3,\n",
       "             max_features=None, max_leaf_nodes=None,\n",
       "             min_impurity_decrease=0.0, min_impurity_split=None,\n",
       "             min_samples_leaf=1...rand.RandomState object at 0x7fca24853a20>,\n",
       "             subsample=1.0, verbose=0, warm_start=False),\n",
       "                 n_jobs=1, quantiles=[0.16, 0.5, 0.84],\n",
       "                 random_state=<mtrand.RandomState object at 0x7fca24853a20>), GradientBoostingQuantileRegressor(base_estimator=GradientBoostingRegressor(alpha=0.9, criterion='friedman_mse', init=None,\n",
       "             learning_rate=0.1, loss='quantile', max_depth=3,\n",
       "             max_features=None, max_leaf_nodes=None,\n",
       "             min_impurity_decrease=0.0, min_impurity_split=None,\n",
       "             min_samples_leaf=1...rand.RandomState object at 0x7fca2488f708>,\n",
       "             subsample=1.0, verbose=0, warm_start=False),\n",
       "                 n_jobs=1, quantiles=[0.16, 0.5, 0.84],\n",
       "                 random_state=<mtrand.RandomState object at 0x7fca2488f708>), GradientBoostingQuantileRegressor(base_estimator=GradientBoostingRegressor(alpha=0.9, criterion='friedman_mse', init=None,\n",
       "             learning_rate=0.1, loss='quantile', max_depth=3,\n",
       "             max_features=None, max_leaf_nodes=None,\n",
       "             min_impurity_decrease=0.0, min_impurity_split=None,\n",
       "             min_samples_leaf=1...rand.RandomState object at 0x7fca24883f78>,\n",
       "             subsample=1.0, verbose=0, warm_start=False),\n",
       "                 n_jobs=1, quantiles=[0.16, 0.5, 0.84],\n",
       "                 random_state=<mtrand.RandomState object at 0x7fca24883f78>), GradientBoostingQuantileRegressor(base_estimator=GradientBoostingRegressor(alpha=0.9, criterion='friedman_mse', init=None,\n",
       "             learning_rate=0.1, loss='quantile', max_depth=3,\n",
       "             max_features=None, max_leaf_nodes=None,\n",
       "             min_impurity_decrease=0.0, min_impurity_split=None,\n",
       "             min_samples_leaf=1...rand.RandomState object at 0x7fca24b0a8b8>,\n",
       "             subsample=1.0, verbose=0, warm_start=False),\n",
       "                 n_jobs=1, quantiles=[0.16, 0.5, 0.84],\n",
       "                 random_state=<mtrand.RandomState object at 0x7fca24b0a8b8>), GradientBoostingQuantileRegressor(base_estimator=GradientBoostingRegressor(alpha=0.9, criterion='friedman_mse', init=None,\n",
       "             learning_rate=0.1, loss='quantile', max_depth=3,\n",
       "             max_features=None, max_leaf_nodes=None,\n",
       "             min_impurity_decrease=0.0, min_impurity_split=None,\n",
       "             min_samples_leaf=1...rand.RandomState object at 0x7fca248efaf8>,\n",
       "             subsample=1.0, verbose=0, warm_start=False),\n",
       "                 n_jobs=1, quantiles=[0.16, 0.5, 0.84],\n",
       "                 random_state=<mtrand.RandomState object at 0x7fca248efaf8>), GradientBoostingQuantileRegressor(base_estimator=GradientBoostingRegressor(alpha=0.9, criterion='friedman_mse', init=None,\n",
       "             learning_rate=0.1, loss='quantile', max_depth=3,\n",
       "             max_features=None, max_leaf_nodes=None,\n",
       "             min_impurity_decrease=0.0, min_impurity_split=None,\n",
       "             min_samples_leaf=1...rand.RandomState object at 0x7fca2488f168>,\n",
       "             subsample=1.0, verbose=0, warm_start=False),\n",
       "                 n_jobs=1, quantiles=[0.16, 0.5, 0.84],\n",
       "                 random_state=<mtrand.RandomState object at 0x7fca2488f168>), GradientBoostingQuantileRegressor(base_estimator=GradientBoostingRegressor(alpha=0.9, criterion='friedman_mse', init=None,\n",
       "             learning_rate=0.1, loss='quantile', max_depth=3,\n",
       "             max_features=None, max_leaf_nodes=None,\n",
       "             min_impurity_decrease=0.0, min_impurity_split=None,\n",
       "             min_samples_leaf=1...rand.RandomState object at 0x7fca248db870>,\n",
       "             subsample=1.0, verbose=0, warm_start=False),\n",
       "                 n_jobs=1, quantiles=[0.16, 0.5, 0.84],\n",
       "                 random_state=<mtrand.RandomState object at 0x7fca248db870>), GradientBoostingQuantileRegressor(base_estimator=GradientBoostingRegressor(alpha=0.9, criterion='friedman_mse', init=None,\n",
       "             learning_rate=0.1, loss='quantile', max_depth=3,\n",
       "             max_features=None, max_leaf_nodes=None,\n",
       "             min_impurity_decrease=0.0, min_impurity_split=None,\n",
       "             min_samples_leaf=1...rand.RandomState object at 0x7fca2490a8b8>,\n",
       "             subsample=1.0, verbose=0, warm_start=False),\n",
       "                 n_jobs=1, quantiles=[0.16, 0.5, 0.84],\n",
       "                 random_state=<mtrand.RandomState object at 0x7fca2490a8b8>), GradientBoostingQuantileRegressor(base_estimator=GradientBoostingRegressor(alpha=0.9, criterion='friedman_mse', init=None,\n",
       "             learning_rate=0.1, loss='quantile', max_depth=3,\n",
       "             max_features=None, max_leaf_nodes=None,\n",
       "             min_impurity_decrease=0.0, min_impurity_split=None,\n",
       "             min_samples_leaf=1...rand.RandomState object at 0x7fca248db990>,\n",
       "             subsample=1.0, verbose=0, warm_start=False),\n",
       "                 n_jobs=1, quantiles=[0.16, 0.5, 0.84],\n",
       "                 random_state=<mtrand.RandomState object at 0x7fca248db990>), GradientBoostingQuantileRegressor(base_estimator=GradientBoostingRegressor(alpha=0.9, criterion='friedman_mse', init=None,\n",
       "             learning_rate=0.1, loss='quantile', max_depth=3,\n",
       "             max_features=None, max_leaf_nodes=None,\n",
       "             min_impurity_decrease=0.0, min_impurity_split=None,\n",
       "             min_samples_leaf=1...rand.RandomState object at 0x7fca248d7510>,\n",
       "             subsample=1.0, verbose=0, warm_start=False),\n",
       "                 n_jobs=1, quantiles=[0.16, 0.5, 0.84],\n",
       "                 random_state=<mtrand.RandomState object at 0x7fca248d7510>), GradientBoostingQuantileRegressor(base_estimator=GradientBoostingRegressor(alpha=0.9, criterion='friedman_mse', init=None,\n",
       "             learning_rate=0.1, loss='quantile', max_depth=3,\n",
       "             max_features=None, max_leaf_nodes=None,\n",
       "             min_impurity_decrease=0.0, min_impurity_split=None,\n",
       "             min_samples_leaf=1...rand.RandomState object at 0x7fca2488f120>,\n",
       "             subsample=1.0, verbose=0, warm_start=False),\n",
       "                 n_jobs=1, quantiles=[0.16, 0.5, 0.84],\n",
       "                 random_state=<mtrand.RandomState object at 0x7fca2488f120>), GradientBoostingQuantileRegressor(base_estimator=GradientBoostingRegressor(alpha=0.9, criterion='friedman_mse', init=None,\n",
       "             learning_rate=0.1, loss='quantile', max_depth=3,\n",
       "             max_features=None, max_leaf_nodes=None,\n",
       "             min_impurity_decrease=0.0, min_impurity_split=None,\n",
       "             min_samples_leaf=1...rand.RandomState object at 0x7fca248a8b40>,\n",
       "             subsample=1.0, verbose=0, warm_start=False),\n",
       "                 n_jobs=1, quantiles=[0.16, 0.5, 0.84],\n",
       "                 random_state=<mtrand.RandomState object at 0x7fca248a8b40>), GradientBoostingQuantileRegressor(base_estimator=GradientBoostingRegressor(alpha=0.9, criterion='friedman_mse', init=None,\n",
       "             learning_rate=0.1, loss='quantile', max_depth=3,\n",
       "             max_features=None, max_leaf_nodes=None,\n",
       "             min_impurity_decrease=0.0, min_impurity_split=None,\n",
       "             min_samples_leaf=1...rand.RandomState object at 0x7fca247bcca8>,\n",
       "             subsample=1.0, verbose=0, warm_start=False),\n",
       "                 n_jobs=1, quantiles=[0.16, 0.5, 0.84],\n",
       "                 random_state=<mtrand.RandomState object at 0x7fca247bcca8>), GradientBoostingQuantileRegressor(base_estimator=GradientBoostingRegressor(alpha=0.9, criterion='friedman_mse', init=None,\n",
       "             learning_rate=0.1, loss='quantile', max_depth=3,\n",
       "             max_features=None, max_leaf_nodes=None,\n",
       "             min_impurity_decrease=0.0, min_impurity_split=None,\n",
       "             min_samples_leaf=1...rand.RandomState object at 0x7fca248c4630>,\n",
       "             subsample=1.0, verbose=0, warm_start=False),\n",
       "                 n_jobs=1, quantiles=[0.16, 0.5, 0.84],\n",
       "                 random_state=<mtrand.RandomState object at 0x7fca248c4630>), GradientBoostingQuantileRegressor(base_estimator=GradientBoostingRegressor(alpha=0.9, criterion='friedman_mse', init=None,\n",
       "             learning_rate=0.1, loss='quantile', max_depth=3,\n",
       "             max_features=None, max_leaf_nodes=None,\n",
       "             min_impurity_decrease=0.0, min_impurity_split=None,\n",
       "             min_samples_leaf=1...rand.RandomState object at 0x7fca247bc828>,\n",
       "             subsample=1.0, verbose=0, warm_start=False),\n",
       "                 n_jobs=1, quantiles=[0.16, 0.5, 0.84],\n",
       "                 random_state=<mtrand.RandomState object at 0x7fca247bc828>), GradientBoostingQuantileRegressor(base_estimator=GradientBoostingRegressor(alpha=0.9, criterion='friedman_mse', init=None,\n",
       "             learning_rate=0.1, loss='quantile', max_depth=3,\n",
       "             max_features=None, max_leaf_nodes=None,\n",
       "             min_impurity_decrease=0.0, min_impurity_split=None,\n",
       "             min_samples_leaf=1...rand.RandomState object at 0x7fca247b1ee8>,\n",
       "             subsample=1.0, verbose=0, warm_start=False),\n",
       "                 n_jobs=1, quantiles=[0.16, 0.5, 0.84],\n",
       "                 random_state=<mtrand.RandomState object at 0x7fca247b1ee8>), GradientBoostingQuantileRegressor(base_estimator=GradientBoostingRegressor(alpha=0.9, criterion='friedman_mse', init=None,\n",
       "             learning_rate=0.1, loss='quantile', max_depth=3,\n",
       "             max_features=None, max_leaf_nodes=None,\n",
       "             min_impurity_decrease=0.0, min_impurity_split=None,\n",
       "             min_samples_leaf=1...rand.RandomState object at 0x7fca247b35e8>,\n",
       "             subsample=1.0, verbose=0, warm_start=False),\n",
       "                 n_jobs=1, quantiles=[0.16, 0.5, 0.84],\n",
       "                 random_state=<mtrand.RandomState object at 0x7fca247b35e8>), GradientBoostingQuantileRegressor(base_estimator=GradientBoostingRegressor(alpha=0.9, criterion='friedman_mse', init=None,\n",
       "             learning_rate=0.1, loss='quantile', max_depth=3,\n",
       "             max_features=None, max_leaf_nodes=None,\n",
       "             min_impurity_decrease=0.0, min_impurity_split=None,\n",
       "             min_samples_leaf=1...rand.RandomState object at 0x7fca247bcd80>,\n",
       "             subsample=1.0, verbose=0, warm_start=False),\n",
       "                 n_jobs=1, quantiles=[0.16, 0.5, 0.84],\n",
       "                 random_state=<mtrand.RandomState object at 0x7fca247bcd80>), GradientBoostingQuantileRegressor(base_estimator=GradientBoostingRegressor(alpha=0.9, criterion='friedman_mse', init=None,\n",
       "             learning_rate=0.1, loss='quantile', max_depth=3,\n",
       "             max_features=None, max_leaf_nodes=None,\n",
       "             min_impurity_decrease=0.0, min_impurity_split=None,\n",
       "             min_samples_leaf=1...rand.RandomState object at 0x7fca24772510>,\n",
       "             subsample=1.0, verbose=0, warm_start=False),\n",
       "                 n_jobs=1, quantiles=[0.16, 0.5, 0.84],\n",
       "                 random_state=<mtrand.RandomState object at 0x7fca24772510>), GradientBoostingQuantileRegressor(base_estimator=GradientBoostingRegressor(alpha=0.9, criterion='friedman_mse', init=None,\n",
       "             learning_rate=0.1, loss='quantile', max_depth=3,\n",
       "             max_features=None, max_leaf_nodes=None,\n",
       "             min_impurity_decrease=0.0, min_impurity_split=None,\n",
       "             min_samples_leaf=1...rand.RandomState object at 0x7fca247b1a20>,\n",
       "             subsample=1.0, verbose=0, warm_start=False),\n",
       "                 n_jobs=1, quantiles=[0.16, 0.5, 0.84],\n",
       "                 random_state=<mtrand.RandomState object at 0x7fca247b1a20>), GradientBoostingQuantileRegressor(base_estimator=GradientBoostingRegressor(alpha=0.9, criterion='friedman_mse', init=None,\n",
       "             learning_rate=0.1, loss='quantile', max_depth=3,\n",
       "             max_features=None, max_leaf_nodes=None,\n",
       "             min_impurity_decrease=0.0, min_impurity_split=None,\n",
       "             min_samples_leaf=1...rand.RandomState object at 0x7fca24776b40>,\n",
       "             subsample=1.0, verbose=0, warm_start=False),\n",
       "                 n_jobs=1, quantiles=[0.16, 0.5, 0.84],\n",
       "                 random_state=<mtrand.RandomState object at 0x7fca24776b40>), GradientBoostingQuantileRegressor(base_estimator=GradientBoostingRegressor(alpha=0.9, criterion='friedman_mse', init=None,\n",
       "             learning_rate=0.1, loss='quantile', max_depth=3,\n",
       "             max_features=None, max_leaf_nodes=None,\n",
       "             min_impurity_decrease=0.0, min_impurity_split=None,\n",
       "             min_samples_leaf=1...rand.RandomState object at 0x7fca24776288>,\n",
       "             subsample=1.0, verbose=0, warm_start=False),\n",
       "                 n_jobs=1, quantiles=[0.16, 0.5, 0.84],\n",
       "                 random_state=<mtrand.RandomState object at 0x7fca24776288>), GradientBoostingQuantileRegressor(base_estimator=GradientBoostingRegressor(alpha=0.9, criterion='friedman_mse', init=None,\n",
       "             learning_rate=0.1, loss='quantile', max_depth=3,\n",
       "             max_features=None, max_leaf_nodes=None,\n",
       "             min_impurity_decrease=0.0, min_impurity_split=None,\n",
       "             min_samples_leaf=1...rand.RandomState object at 0x7fca24757f30>,\n",
       "             subsample=1.0, verbose=0, warm_start=False),\n",
       "                 n_jobs=1, quantiles=[0.16, 0.5, 0.84],\n",
       "                 random_state=<mtrand.RandomState object at 0x7fca24757f30>), GradientBoostingQuantileRegressor(base_estimator=GradientBoostingRegressor(alpha=0.9, criterion='friedman_mse', init=None,\n",
       "             learning_rate=0.1, loss='quantile', max_depth=3,\n",
       "             max_features=None, max_leaf_nodes=None,\n",
       "             min_impurity_decrease=0.0, min_impurity_split=None,\n",
       "             min_samples_leaf=1...rand.RandomState object at 0x7fca24789048>,\n",
       "             subsample=1.0, verbose=0, warm_start=False),\n",
       "                 n_jobs=1, quantiles=[0.16, 0.5, 0.84],\n",
       "                 random_state=<mtrand.RandomState object at 0x7fca24789048>)]\n",
       " random_state: <mtrand.RandomState object at 0x7fca24a42870>\n",
       "        space: Space([Integer(low=3, high=6),\n",
       "       Integer(low=50, high=200),\n",
       "       Real(low=0, high=1, prior='uniform', transform='identity'),\n",
       "       Categorical(categories=('gbtree', 'dart'), prior=None)])\n",
       "        specs: {'args': {'n_jobs': 1, 'kappa': 1.96, 'xi': 0.01, 'n_restarts_optimizer': 5, 'n_points': 10000, 'callback': None, 'verbose': True, 'random_state': 0, 'y0': None, 'x0': None, 'acq_optimizer': 'sampling', 'acq_func': 'EI', 'n_random_starts': 10, 'n_calls': 50, 'base_estimator': GradientBoostingQuantileRegressor(base_estimator=GradientBoostingRegressor(alpha=0.9, criterion='friedman_mse', init=None,\n",
       "             learning_rate=0.1, loss='quantile', max_depth=3,\n",
       "             max_features=None, max_leaf_nodes=None,\n",
       "             min_impurity_decrease=0.0, min_impurity_split=None,\n",
       "             min_samples_leaf=1, min_samples_split=2,\n",
       "             min_weight_fraction_leaf=0.0, n_estimators=30, presort='auto',\n",
       "             random_state=None, subsample=1.0, verbose=0, warm_start=False),\n",
       "                 n_jobs=1, quantiles=[0.16, 0.5, 0.84],\n",
       "                 random_state=<mtrand.RandomState object at 0x7fca24a42ab0>), 'dimensions': [Integer(low=3, high=6), Integer(low=50, high=200), Real(low=0, high=1, prior='uniform', transform='identity'), Categorical(categories=('gbtree', 'dart'), prior=None)], 'func': <function hyperparameter_opt_GBRT.<locals>.objective at 0x7fca25395c80>}, 'function': 'base_minimize'}\n",
       "            x: [3, 197, 0.1512247038732474, 'dart']\n",
       "      x_iters: [[3, 97, 0.7151893663724196, 'dart'], [6, 153, 0.4236547993389048, 'dart'], [3, 137, 0.89177300078208, 'dart'], [5, 89, 0.5288949197529046, 'dart'], [4, 75, 0.07103605819788696, 'gbtree'], [6, 129, 0.8700121482468194, 'dart'], [3, 79, 0.7805291762864557, 'gbtree'], [3, 59, 0.5373732294490108, 'dart'], [5, 164, 0.45615033221654866, 'dart'], [3, 103, 0.1496748671836832, 'gbtree'], [5, 186, 0.5315716925142768, 'dart'], [6, 179, 0.5104093113546596, 'dart'], [5, 195, 0.6524764251277478, 'dart'], [5, 193, 0.5764242038911925, 'gbtree'], [5, 63, 0.9178283433398909, 'dart'], [6, 53, 0.9074193603755174, 'gbtree'], [5, 196, 0.06770519956822475, 'dart'], [5, 191, 0.45979701224020353, 'dart'], [3, 194, 0.44876452674127776, 'dart'], [4, 193, 0.4494131465778394, 'dart'], [3, 194, 0.1925397360933691, 'dart'], [3, 194, 0.13764303728370655, 'gbtree'], [3, 194, 0.14861609049962923, 'gbtree'], [3, 194, 0.15706050412708109, 'dart'], [3, 194, 0.228895018538192, 'dart'], [3, 58, 0.14871918782983498, 'dart'], [3, 194, 0.1349970282817964, 'gbtree'], [3, 50, 0.04872006824375609, 'gbtree'], [3, 194, 0.044049931108544944, 'gbtree'], [3, 50, 0.07741238108199779, 'gbtree'], [6, 50, 0.05288280078737197, 'dart'], [3, 50, 0.023807441440945938, 'gbtree'], [5, 194, 0.008894047874369206, 'dart'], [5, 194, 0.11193007537986813, 'gbtree'], [4, 51, 0.963744094186601, 'gbtree'], [3, 195, 0.1383150891402887, 'dart'], [6, 58, 0.7395537797797344, 'gbtree'], [6, 61, 0.996764204051111, 'gbtree'], [6, 79, 0.9821948231556755, 'gbtree'], [5, 59, 0.9850096809587483, 'gbtree'], [6, 81, 0.5811565184653293, 'gbtree'], [6, 79, 0.5829751696646471, 'gbtree'], [3, 194, 0.7532371210429346, 'gbtree'], [5, 194, 0.8184959143215166, 'dart'], [3, 197, 0.1512247038732474, 'dart'], [6, 79, 0.03698369557909121, 'gbtree'], [5, 194, 0.7887159326744683, 'gbtree'], [6, 80, 0.20740885655495328, 'gbtree'], [4, 50, 0.27733795135702116, 'gbtree'], [3, 197, 0.7787952633804929, 'gbtree']]"
      ]
     },
     "execution_count": 174,
     "metadata": {},
     "output_type": "execute_result"
    }
   ],
   "source": [
    "hyperparameter_opt_GBRT(xdg_model_ez2,space, X_train, y_train)"
   ]
  },
  {
   "cell_type": "code",
   "execution_count": null,
   "metadata": {},
   "outputs": [],
   "source": []
  }
 ],
 "metadata": {
  "kernelspec": {
   "display_name": "Python [conda env:gh2018]",
   "language": "python",
   "name": "conda-env-gh2018-py"
  },
  "language_info": {
   "codemirror_mode": {
    "name": "ipython",
    "version": 3
   },
   "file_extension": ".py",
   "mimetype": "text/x-python",
   "name": "python",
   "nbconvert_exporter": "python",
   "pygments_lexer": "ipython3",
   "version": "3.6.6"
  }
 },
 "nbformat": 4,
 "nbformat_minor": 2
}
